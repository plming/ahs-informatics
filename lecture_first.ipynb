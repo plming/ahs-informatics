{
  "cells": [
    {
      "attachments": {},
      "cell_type": "markdown",
      "metadata": {
        "colab_type": "text",
        "id": "view-in-github"
      },
      "source": [
        "<a href=\"https://colab.research.google.com/github/plming/andonghs-informatics/blob/master/lecture_first.ipynb\" target=\"_parent\"><img src=\"https://colab.research.google.com/assets/colab-badge.svg\" alt=\"Open In Colab\"/></a>"
      ]
    },
    {
      "attachments": {},
      "cell_type": "markdown",
      "metadata": {
        "collapsed": false,
        "id": "nTSNR_29SgeM"
      },
      "source": [
        "# 제어 구조의 활용 1차시 - 조건문\n",
        "* 선생님이 수업에서 쓰일 예제 코드와 여러분이 직접 해결할 활동을 코랩을 통해 작성해 두었어요.\n",
        "* 각 코드 칸의 왼쪽의 ▶ 버튼을 누르면 코드를 실행할 수 있어요.\n",
        "* if, else, elif를 사용할 때 :(콜론)과 들여쓰기를 잘 확인해주세요. 잘못 작성할 경우, 오류가 발생해 실행이 되지 않아요."
      ]
    },
    {
      "attachments": {},
      "cell_type": "markdown",
      "metadata": {
        "collapsed": false,
        "id": "FKW4T5zbSgeN"
      },
      "source": [
        "## 1. 절대값 구하기 프로그램 분석하기\n",
        "* if/else 문을 사용하면 조건에 따라 다른 코드를 실행할 수 있어요.\n",
        "* 아래 예제는 절대값을 구하는 프로그램이에요."
      ]
    },
    {
      "cell_type": "code",
      "execution_count": null,
      "metadata": {
        "ExecuteTime": {
          "end_time": "2023-05-10T06:14:05.578802Z",
          "start_time": "2023-05-10T06:14:05.570802Z"
        },
        "id": "_uNtAJYYSgeO"
      },
      "outputs": [],
      "source": [
        "# 역할1. if x >= 0:에서 x >= 0의 의미를 적기\n",
        "# 답.\n",
        "\n",
        "# 역할2. 42를 입력할때 코드가 어떤 순서대로 실행되는지 적어보기\n",
        "# 답.\n",
        "\n",
        "# 역할3. -10을 입력하여 코드가 어떤 순서대로 실행되는지 적어보기\n",
        "# 답.\n",
        "\n",
        "# 역할4. 0을 입력하여 코드가 어떤 순서대로 실행되는지 적어보기\n",
        "# 답.\n",
        "\n",
        "x = int(input(\"정수를 입력해주세요: \"))\n",
        "\n",
        "if x >= 0:\n",
        "    print(x, \"의 절대값은\", x, \"입니다.\")\n",
        "else:\n",
        "    print(x, \"의 절대값은\", -x, \"입니다.\")"
      ]
    },
    {
      "attachments": {},
      "cell_type": "markdown",
      "metadata": {
        "collapsed": false,
        "id": "c-AUKydqSgeP"
      },
      "source": [
        "## 2. 계산기 프로그램 분석하기\n",
        "* elif를 사용하면 여러 가지 조건을 검사할 수 있어요.\n",
        "* 아래 예제는 간단한 사칙연산 계산기 프로그램이에요."
      ]
    },
    {
      "cell_type": "code",
      "execution_count": null,
      "metadata": {
        "ExecuteTime": {
          "end_time": "2023-05-10T06:27:39.334136Z",
          "start_time": "2023-05-10T06:27:36.013631Z"
        },
        "id": "c0Ek2vF8SgeP"
      },
      "outputs": [],
      "source": [
        "# 역할1. 이 프로그램에서 만든 변수들(3개)의 의미를 적어보아요.\n",
        "# 답. \n",
        "\n",
        "# 역할2. 1928 / + / 2021 을 입력하여 출력된 내용과 코드가 어떤 순서대로 실행되는지 적어보기\n",
        "# 답.\n",
        "\n",
        "# 역할3. 192 / * / 72 를 입력하여 출력된 내용과 코드가 어떤 순서대로 실행되는지 적어보기\n",
        "# 답.\n",
        "\n",
        "# 역할4. 22 / 안녕하세요 / 33 을 입력하여 출력된 내용과 코드가 어떤 순서대로 실행되는지 적어보기\n",
        "# 답.\n",
        "\n",
        "x = int(input(\"첫 번째 숫자를 입력해주세요: \"))\n",
        "op = input(\"연산자를 입력해주세요(ex. + - * /): \")\n",
        "y = int(input(\"두 번째 숫자를 입력해주세요: \"))\n",
        "\n",
        "if op == \"+\":\n",
        "    print(x, \"+\", y, \"=\", x + y)\n",
        "elif op == \"-\":\n",
        "    print(x, \"-\", y, \"=\", x - y)\n",
        "elif op == \"*\":\n",
        "    print(x, \"*\", y, \"=\", x * y)\n",
        "elif op == \"/\":\n",
        "    print(x, \"/\", y, \"=\", x / y)\n",
        "else:\n",
        "    print(\"잘못된 연산자입니다.\")"
      ]
    },
    {
      "attachments": {},
      "cell_type": "markdown",
      "metadata": {
        "collapsed": false,
        "id": "SrY89nQASgeQ"
      },
      "source": [
        "## 3. 시험 등급 구하는 프로그램 만들기\n",
        "* 시험 점수를 입력받아 등급을 출력하는 프로그램을 만들어 보아요.\n",
        "* 입력: 시험 점수를 입력받습니다. 0 이상 100 이하의 정수입니다.\n",
        "* 출력: 시험 점수에 해당하는 등급(A, B, C, D, F)를 출력합니다.\n",
        "\n",
        "| 점수 범위 | 등급 |\n",
        "|:---:|:----:|\n",
        "| 90점 이상 100점 이하 | A |\n",
        "| 80점 이상 89점 이하 | B |\n",
        "| 70점 이상 79점 이하 | C |\n",
        "| 60점 이상 69점 이하 | D |\n",
        "| 60점 미만 | F |\n",
        "\n",
        "* 프로그램 예시\n",
        "  - 92 입력 -> A 출력\n",
        "  - 85 입력 -> B 출력\n",
        "  - 77 입력 -> C 출력\n",
        "  - 66 입력 -> D 출력\n",
        "  - 12 입력 -> F 출력"
      ]
    },
    {
      "cell_type": "code",
      "execution_count": null,
      "metadata": {},
      "outputs": [],
      "source": [
        "# 변수 score에 시험 점수를 입력받아 저장합니다.\n",
        "score = int(input(\"시험 점수를 입력해주세요: \"))\n",
        "\n",
        "# 만약 점수가 90점 이상이면서 100점 이하이면 \"A\"를 출력합니다.\n",
        "if score >= 90 and score <= 100:\n",
        "    print(\"A\")\n",
        "\n",
        "# 역할1. 점수가 80점 이상이면서 90점 미만이면 \"B\"를 출력하도록 코드를 수정합니다.\n",
        "\n",
        "# 역할2. 점수가 70점 이상이면서 80점 미만이면 \"C\"를 출력하도록 코드를 수정합니다.\n",
        "\n",
        "# 역할3. 점수가 60점 이상이면서 70점 미만이면 \"D\"를 출력하도록 코드를 수정합니다.\n",
        "\n",
        "# 역할4. 점수가 60점 미만이면 \"F\"를 출력하도록 코드를 수정합니다."
      ]
    },
    {
      "attachments": {},
      "cell_type": "markdown",
      "metadata": {},
      "source": [
        "## 수업 마무리\n",
        "여러분! 오늘 수업을 어땠나요? 여러분의 감상과 의견을 [Google Forms](https://forms.gle/kpDFSqaoVcxteyQGA) 설문을 통해 알려주세요~"
      ]
    }
  ],
  "metadata": {
    "colab": {
      "include_colab_link": true,
      "provenance": []
    },
    "kernelspec": {
      "display_name": "Python 3",
      "language": "python",
      "name": "python3"
    },
    "language_info": {
      "codemirror_mode": {
        "name": "ipython",
        "version": 3
      },
      "file_extension": ".py",
      "mimetype": "text/x-python",
      "name": "python",
      "nbconvert_exporter": "python",
      "pygments_lexer": "ipython3",
      "version": "3.11.2"
    }
  },
  "nbformat": 4,
  "nbformat_minor": 0
}
