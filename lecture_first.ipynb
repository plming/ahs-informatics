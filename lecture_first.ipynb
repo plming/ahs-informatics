{
  "cells": [
    {
      "attachments": {},
      "cell_type": "markdown",
      "metadata": {
        "colab_type": "text",
        "id": "view-in-github"
      },
      "source": [
        "<a href=\"https://colab.research.google.com/github/plming/andonghs-informatics/blob/master/lecture_first.ipynb\" target=\"_parent\"><img src=\"https://colab.research.google.com/assets/colab-badge.svg\" alt=\"Open In Colab\"/></a>"
      ]
    },
    {
      "attachments": {},
      "cell_type": "markdown",
      "metadata": {
        "collapsed": false,
        "id": "nTSNR_29SgeM"
      },
      "source": [
        "# 제어구조 1차시\n",
        "* 선생님이 예제와 활동 코드를 미리 작성해 두었어요.\n",
        "* \\#(해시) 기호 뒤에 나오는 코드는 주석(comment)을 나타내요. 주석은 실행되지 않으므로 코드에 대한 설명을 적기 위해 사용해요.\n",
        "* if, else, elif를 사용할 때 :(콜론)과 들여쓰기를 잘 확인해주세요. 잘못 작성할 경우, 오류가 발생해 실행이 되지 않아요.\n",
        "\n",
        "* 예제 코드를 실행해보면서, 학습 내용을 이해하여 봅시다.\n",
        "  - 예제 코드는 자유롭게 수정하여도 괜찮아요.\n",
        "  - 예제에 있는 **Quiz**는 모두 풀어주세요.\n",
        "* 학습한 내용을 바탕으로 활동 문제를 풀어보아요.\n",
        "  - 활동에 있는 **Extra**는 모든 과제를 빨리 해결하여, 시간이 남은 경우 풀어보아요."
      ]
    },
    {
      "attachments": {},
      "cell_type": "markdown",
      "metadata": {
        "collapsed": false,
        "id": "FKW4T5zbSgeN"
      },
      "source": [
        "## 1. 조건문 기초\n",
        "* if: (만약) ~라면\n",
        "* 조건식에 따라 서로 다른 코드를 실행시킬 수 있어요\n",
        "* **Quiz**. 변수의 값을 True에서 False로 바꾸어서 실행해 봅시다. 출력이 어떻게 달라지나요?"
      ]
    },
    {
      "cell_type": "code",
      "execution_count": 1,
      "metadata": {
        "ExecuteTime": {
          "end_time": "2023-05-10T06:14:05.578802Z",
          "start_time": "2023-05-10T06:14:05.570802Z"
        },
        "id": "_uNtAJYYSgeO"
      },
      "outputs": [
        {
          "name": "stdout",
          "output_type": "stream",
          "text": [
            "조건식이 참(True)일 경우, 이 코드가 실행됩니다.\n"
          ]
        }
      ],
      "source": [
        "condition = True # condition이라는 변수에 True(참)를 대입합니다.\n",
        "\n",
        "if condition:\n",
        "    print(\"조건식이 참(True)일 경우, 이 코드가 실행됩니다.\")\n",
        "else:\n",
        "    print(\"조건식이 거짓(False)일 경우, 이 코드가 실행됩니다.\")"
      ]
    },
    {
      "attachments": {},
      "cell_type": "markdown",
      "metadata": {
        "collapsed": false,
        "id": "Be2G11GFSgeP"
      },
      "source": [
        "## 2. if/else 문\n",
        "* else: \"그 밖의 다른\"\n",
        "* 아래 프로그램은 사용자로부터 정수를 입력받아 짝수/홀수 여부를 판별해요."
      ]
    },
    {
      "cell_type": "code",
      "execution_count": 9,
      "metadata": {
        "ExecuteTime": {
          "end_time": "2023-05-11T02:46:06.731719Z",
          "start_time": "2023-05-11T02:46:05.324169Z"
        },
        "id": "-nQV7SgNSgeP"
      },
      "outputs": [
        {
          "name": "stdout",
          "output_type": "stream",
          "text": [
            "-1 홀수입니다.\n"
          ]
        }
      ],
      "source": [
        "number = int(input(\"정수를 입력해주세요: \"))\n",
        "\n",
        "if number > 0:\n",
        "    print(\"입력한 정수는 양수입니다.\")\n",
        "elif number < 0:\n",
        "    print(\"입력한 정수는 음수입니다.\")\n",
        "else:\n",
        "    print(\"입력한 정수는 0입니다.\")"
      ]
    },
    {
      "attachments": {},
      "cell_type": "markdown",
      "metadata": {
        "collapsed": false,
        "id": "c-AUKydqSgeP"
      },
      "source": [
        "## 3. if/elif 문\n",
        "* 파이썬에서는 else if를 elif로 줄여서 쓰고 있어요.\n",
        "* 아래 예제는 if/elif 문을 사용한 간단한 계산기 프로그램이에요.\n",
        "* **Quiz**. 만약 연산자(+, -, *, /)가 아닌 다른 문자열(\"abc\", \"hello\")이 입력으로 들어오면, \"잘못된 연산자입니다.\"를 출력하도록 코드를 수정해봅시다."
      ]
    },
    {
      "cell_type": "code",
      "execution_count": 3,
      "metadata": {
        "ExecuteTime": {
          "end_time": "2023-05-10T06:27:39.334136Z",
          "start_time": "2023-05-10T06:27:36.013631Z"
        },
        "id": "c0Ek2vF8SgeP"
      },
      "outputs": [],
      "source": [
        "num1 = int(input(\"첫 번째 숫자를 입력해주세요: \"))\n",
        "num2 = int(input(\"두 번째 숫자를 입력해주세요: \"))\n",
        "operator = input(\"연산자를 입력해주세요(ex. + - * /): \")\n",
        "\n",
        "if operator == \"+\":\n",
        "    print(num1, \"+\", num2, \"=\", num1 + num2)\n",
        "elif operator == \"-\":\n",
        "    print(num1, \"-\", num2, \"=\", num1 - num2)\n",
        "elif operator == \"*\":\n",
        "    print(num1, \"*\", num2, \"=\", num1 * num2)\n",
        "elif operator == \"/\":\n",
        "    print(num1, \"/\", num2, \"=\", num1 / num2)"
      ]
    },
    {
      "cell_type": "code",
      "execution_count": 18,
      "metadata": {},
      "outputs": [
        {
          "name": "stdout",
          "output_type": "stream",
          "text": [
            "2.1113150119781494 sec: elif문\n",
            "4.896151065826416 sec: if문\n"
          ]
        }
      ],
      "source": [
        "import time\n",
        "\n",
        "# 대한민국 총 학생 수 * 한 학생당 듣는 과목수\n",
        "실행횟수 = 5_000_000 * 7\n",
        "\n",
        "# 입력 예시\n",
        "score = 95\n",
        "\n",
        "# 입출력 대신 수행할 연산을 위한 변수\n",
        "dummy = 0\n",
        "\n",
        "# if문과 elif문을 활용한 프로그램의 수행시간\n",
        "start = time.time()\n",
        "for _ in range(실행횟수):\n",
        "    if score >= 90:\n",
        "        dummy += 1\n",
        "    elif score >= 80:\n",
        "        dummy += 1\n",
        "    elif score >= 70:\n",
        "        dummy += 1\n",
        "    elif score >= 60:\n",
        "        dummy += 1\n",
        "    else:\n",
        "        dummy += 1\n",
        "print(f\"{time.time() - start} sec: elif문\")\n",
        "\n",
        "# if 문만 사용한 프로그램의 수행시간\n",
        "start = time.time()\n",
        "for _ in range(실행횟수):\n",
        "    if score >= 90 and score <= 100:\n",
        "        dummy += 1\n",
        "    if score >= 80 and score < 90:\n",
        "        dummy += 1\n",
        "    if score >= 70 and score < 80:\n",
        "        dummy += 1\n",
        "    if score >= 60 and score < 70:\n",
        "        dummy += 1\n",
        "    if score < 60:\n",
        "        dummy += 1\n",
        "\n",
        "print(f\"{time.time() - start} sec: if문\")"
      ]
    },
    {
      "attachments": {},
      "cell_type": "markdown",
      "metadata": {
        "collapsed": false,
        "id": "SrY89nQASgeQ"
      },
      "source": [
        "## 활동1: 성적에 따른 등급을 출력하는 프로그램 만들기\n",
        "* 여러분은 \n",
        "* 사용자로부터 점수를 입력받습니다. (0 이상 100 이하인 정수만 입력된다 가정합니다.)\n",
        "* 90점 이상 100점 이하이면 A를 출력합니다.\n",
        "* 80점 이상 89점 이하이면 B를 출력합니다,\n",
        "* 70점 이상 79점 이하이면 C를 출력합니다,\n",
        "* 60점 이상 69점 이하라면 D를 출력합니다,\n",
        "* 나머지 경우는 F를 출력합니다.\n",
        "* **Extra**: and 연산자를 사용하지 않고 조건식을 작성해 보세요."
      ]
    },
    {
      "cell_type": "code",
      "execution_count": null,
      "metadata": {},
      "outputs": [],
      "source": []
    },
    {
      "attachments": {},
      "cell_type": "markdown",
      "metadata": {},
      "source": [
        "## 활동: 거스자동 계산 프로그램 만들기\n",
        "여러분은 IT 기술 스타트업 **BIMA**에 최근에 입사한 신입 프로그래머입니다.\n",
        "BIMA에서는 근처에 소재한 안동고등학교로부터 한 의뢰를 받았습니다.\n",
        "안동고등학교에는 학생들이 자체적으로 운영하는 카페가 있는데, 현금으로 결제할 경우  신입 동료 프로그래머와 함께 문제를 해결하여 봅시다!\n",
        "\n",
        "안동고등학교 측에서 요구한 사항은 다음과 같습니다.\n",
        "* 입력: 점\n",
        "* 거스름돈을 줄때 사용하는 동전은 500원, 100원, 50원, 10원입니다."
      ]
    },
    {
      "attachments": {},
      "cell_type": "markdown",
      "metadata": {},
      "source": [
        "## 마무리\n",
        "* [Google Forms](https://forms.gle/TjjJgwwUzw7zez9XA) 링크를 눌러 수업 설문조사에 참여해주세요.\n",
        "* 오늘 활동한 파일은 Colab 메뉴에서 \"파일\" > \"다운로드\" > \".ipynb 다운로드\" 버튼을 눌러 다운로드 받을 수 있습니다.\n",
        "* 다운로드 받은 파일은 설문조사에 함께 첨부해 주세요."
      ]
    }
  ],
  "metadata": {
    "colab": {
      "include_colab_link": true,
      "provenance": []
    },
    "kernelspec": {
      "display_name": "Python 3",
      "language": "python",
      "name": "python3"
    },
    "language_info": {
      "codemirror_mode": {
        "name": "ipython",
        "version": 3
      },
      "file_extension": ".py",
      "mimetype": "text/x-python",
      "name": "python",
      "nbconvert_exporter": "python",
      "pygments_lexer": "ipython3",
      "version": "3.11.2"
    }
  },
  "nbformat": 4,
  "nbformat_minor": 0
}
