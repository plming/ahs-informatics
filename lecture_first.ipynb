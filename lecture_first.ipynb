{
  "cells": [
    {
      "attachments": {},
      "cell_type": "markdown",
      "metadata": {
        "colab_type": "text",
        "id": "view-in-github"
      },
      "source": [
        "<a href=\"https://colab.research.google.com/github/plming/andonghs-informatics/blob/master/lecture_first.ipynb\" target=\"_parent\"><img src=\"https://colab.research.google.com/assets/colab-badge.svg\" alt=\"Open In Colab\"/></a>"
      ]
    },
    {
      "attachments": {},
      "cell_type": "markdown",
      "metadata": {
        "collapsed": false,
        "id": "nTSNR_29SgeM"
      },
      "source": [
        "# 제어 구조의 활용 1차시 - 조건문\n",
        "* 선생님이 수업에서 쓰일 예제 코드와 여러분이 직접 해결할 활동을 코랩을 통해 작성해 두었어요.\n",
        "* 각 코드 칸의 왼쪽의 ▶ 버튼을 누르면 코드를 실행할 수 있어요.\n",
        "* \\#(해시) 기호 뒤에 나오는 코드는 주석(comment)을 나타내요. 주석은 실행되지 않으므로 코드에 대한 설명을 적기 위해 사용해요.\n",
        "* if, else, elif를 사용할 때 :(콜론)과 들여쓰기를 잘 확인해주세요. 잘못 작성할 경우, 오류가 발생해 실행이 되지 않아요."
      ]
    },
    {
      "attachments": {},
      "cell_type": "markdown",
      "metadata": {
        "collapsed": false,
        "id": "FKW4T5zbSgeN"
      },
      "source": [
        "## 1. 절대값을 구하는 프로그램\n",
        "* if: (만약) ~라면 / else: 그렇지 않으면\n",
        "* 조건식에 따라 서로 다른 코드를 실행시킬 수 있어요.\n",
        "* 조건식이 거짓인 경우에 실행할 코드가 없으면, else문은 생략할 수 있어요.\n",
        "* 아래 예제는 입력한 정수에 대한 절대값을 출력하는 프로그램이에요.\n",
        "\n",
        "**직접 해보기**: 프로그램을 실행시켜 정수(ex. 42, -123, 0)를 입력해봅시다. 각각 입력했을때 출력이 어떻게 되나요?"
      ]
    },
    {
      "cell_type": "code",
      "execution_count": null,
      "metadata": {
        "ExecuteTime": {
          "end_time": "2023-05-10T06:14:05.578802Z",
          "start_time": "2023-05-10T06:14:05.570802Z"
        },
        "id": "_uNtAJYYSgeO"
      },
      "outputs": [],
      "source": [
<<<<<<< Updated upstream
        "number = int(input(\"정수를 입력해주세요: \"))\n",
        "\n",
        "if number >= 0:\n",
        "    abs_number = number\n",
        "else:\n",
        "    abs_number = -number\n",
        "\n",
        "print(number, \"의 절대값은\", abs_number, \"입니다.\")"
=======
        "print(\"입력한 정수의 절대값을 출력하는 프로그램입니다.\")\n",
        "\n",
        "n = int(input(\"정수를 입력해주세요: \"))\n",
        "\n",
        "if n >= 0:\n",
        "    print(n, \"의 절대값은\", n, \"입니다.\")\n",
        "else:\n",
        "    print(n, \"의 절대값은\", -n, \"입니다.\")"
      ]
    },
    {
      "attachments": {},
      "cell_type": "markdown",
      "metadata": {},
      "source": [
        "## 2. 입력한 정수가 양수인지 음수인지 출력하는 프로그램"
      ]
    },
    {
      "cell_type": "code",
      "execution_count": 2,
      "metadata": {},
      "outputs": [
        {
          "name": "stdout",
          "output_type": "stream",
          "text": [
            "정수를 입력받아 양수와 음수와 0 중 어디에 있는지를 출력하는 프로그램입니다.\n",
            "입력한 정수는 양수입니다.\n"
          ]
        }
      ],
      "source": [
        "print(\"정수를 입력받아 양수와 음수와 0 중 어디에 있는지를 출력하는 프로그램입니다.\")\n",
        "\n",
        "n = int(input(\"정수를 입력해주세요: \"))\n",
        "\n",
        "if n > 0:\n",
        "    print(\"입력한 정수는 양수입니다.\")\n",
        "elif n < 0:\n",
        "    print(\"입력한 정수는 음수입니다.\")\n",
        "else:\n",
        "    print(\"입력한 정수는 0입니다.\")"
>>>>>>> Stashed changes
      ]
    },
    {
      "attachments": {},
      "cell_type": "markdown",
      "metadata": {
        "collapsed": false,
        "id": "c-AUKydqSgeP"
      },
      "source": [
        "## 2. 계산기 프로그램 분석하기\n",
        "* elif를 사용하면 여러 가지 조건을 검사할 수 있어요.\n",
        "**직접 해보기**: 만약 연산자(+, -, *, /)가 아닌 다른 문자열(\"abc\", \"hello\")이 입력으로 들어오면 출력이 어떻게 되나요?"
      ]
    },
    {
      "cell_type": "code",
      "execution_count": null,
      "metadata": {
        "ExecuteTime": {
          "end_time": "2023-05-10T06:27:39.334136Z",
          "start_time": "2023-05-10T06:27:36.013631Z"
        },
        "id": "c0Ek2vF8SgeP"
      },
      "outputs": [],
      "source": [
        "num1 = int(input(\"첫 번째 숫자를 입력해주세요: \"))\n",
        "operator = input(\"연산자를 입력해주세요(ex. + - * /): \")\n",
        "num2 = int(input(\"두 번째 숫자를 입력해주세요: \"))\n",
        "\n",
        "if operator == \"+\":\n",
        "    print(num1, \"+\", num2, \"=\", num1 + num2)\n",
        "elif operator == \"-\":\n",
        "    print(num1, \"-\", num2, \"=\", num1 - num2)\n",
        "elif operator == \"*\":\n",
        "    print(num1, \"*\", num2, \"=\", num1 * num2)\n",
        "elif operator == \"/\":\n",
        "    print(num1, \"/\", num2, \"=\", num1 / num2)\n",
        "else:\n",
        "    print(\"잘못된 연산자입니다.\")"
      ]
    },
    {
      "attachments": {},
      "cell_type": "markdown",
      "metadata": {
        "collapsed": false,
        "id": "SrY89nQASgeQ"
      },
      "source": [
        "## 활동: 등급 구하는 프로그램 만들기\n",
        "여러분은 IT 스타트업 **BIMA**에 최근 입사한 신입 프로그래머입니다.\n",
        "BIMA는 효율적인 프로그램 작성을 중시하는 회사입니다.\n",
        "BIMA는 근처에 있는 안동고등학교로부터 개발 의뢰를 받았습니다.\n",
        "안동고등학교에서 시험을 친 뒤 학생들의 점수를 통해 등급을 계산하는데, 직접 계산하여 등록하는 과정에서 실수가 잦아 프로그램을 통해 자동화하고자 합니다.\n",
        "이 프로그램을 만드는 것이 여러분의 첫 업무가 되었습니다.\n",
        "동료 신입 프로그래머들과 함께 문제를 해결하여 봅시다!\n",
        "\n",
        "BIMA에서 정리한 프로그램의 요구사항은 다음과 같습니다.\n",
        "* 사용자로부터 과목 점수를 입력받습니다.\n",
        "* 모든 과목의 점수는 0 이상 100 이하의 정수입니다.\n",
        "* 사용자에게 과목의 등급을 출력하여 보여줍니다.\n",
        "* 과목의 등급은 아래 표와 같이 정해집니다.\n",
        "* 가능한 효율적인 프로그램을 작성합니다.\n",
        "\n",
        "| 점수 범위 | 등급 |\n",
        "|:---:|:----:|\n",
        "| 90점 이상 100점 이하 | A |\n",
        "| 80점 이상 89점 이하 | B |\n",
        "| 70점 이상 79점 이하 | C |\n",
        "| 60점 이상 69점 이하 | D |\n",
        "| 60점 미만 | F |"
      ]
    },
    {
      "cell_type": "code",
      "execution_count": null,
      "metadata": {},
      "outputs": [],
      "source": [
        "# 변수 score에 시험 점수를 입력받아 저장합니다.\n",
        "score = int(input(\"시험 점수를 입력해주세요: \"))\n",
        "\n",
        "# 역할1. 만약 점수가 90점 이상이면서 100점 이하이면 \"A\"를 출력합니다.\n",
        "\n",
        "# 역할2. 만약 점수가 80점 이상이면서 90점 미만이면 \"B\"를 출력합니다.\n",
        "\n",
        "# 역할3. 만약 점수가 70점 이상이면서 80점 미만이면 \"C\"를 출력합니다.\n",
        "\n",
        "# 역할4. 만약 점수가 60점 이상이면서 70점 미만이면 \"D\"를 출력합니다."
      ]
    },
    {
      "attachments": {},
      "cell_type": "markdown",
      "metadata": {},
      "source": [
        "## 수업 마무리\n",
        "여러분! 오늘 수업을 어땠나요? 여러분의 감상과 의견을 [Google Forms](https://forms.gle/kpDFSqaoVcxteyQGA) 설문을 통해 알려주세요~"
      ]
    }
  ],
  "metadata": {
    "colab": {
      "include_colab_link": true,
      "provenance": []
    },
    "kernelspec": {
      "display_name": "Python 3",
      "language": "python",
      "name": "python3"
    },
    "language_info": {
      "codemirror_mode": {
        "name": "ipython",
        "version": 3
      },
      "file_extension": ".py",
      "mimetype": "text/x-python",
      "name": "python",
      "nbconvert_exporter": "python",
      "pygments_lexer": "ipython3",
      "version": "3.11.2"
    }
  },
  "nbformat": 4,
  "nbformat_minor": 0
}
