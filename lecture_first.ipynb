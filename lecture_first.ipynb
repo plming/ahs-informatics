{
  "cells": [
    {
      "attachments": {},
      "cell_type": "markdown",
      "metadata": {
        "colab_type": "text",
        "id": "view-in-github"
      },
      "source": [
        "<a href=\"https://colab.research.google.com/github/plming/ahs-informatics/blob/master/lecture_first.ipynb\" target=\"_parent\"><img src=\"https://colab.research.google.com/assets/colab-badge.svg\" alt=\"Open In Colab\"/></a>"
      ]
    },
    {
      "attachments": {},
      "cell_type": "markdown",
      "metadata": {
        "collapsed": false,
        "id": "nTSNR_29SgeM"
      },
      "source": [
        "# 제어구조 1차시\n",
        "* 선생님이 예제와 활동 코드를 미리 작성해 두었어요.\n",
        "* 예제 코드를 실행해보면서, 학습 내용을 이해하여 봅시다.\n",
        "  - 예제 코드는 자유롭게 수정하여도 괜찮아요.\n",
        "  - 예제에 있는 **Quiz**는 모두 풀어주세요.\n",
        "* 학습한 내용을 바탕으로 활동 문제를 풀어보아요.\n",
        "  - 활동에 있는 **Extra**는 모든 과제를 빨리 해결하여, 시간이 남은 경우 풀어보아요."
      ]
    },
    {
      "attachments": {},
      "cell_type": "markdown",
      "metadata": {
        "collapsed": false,
        "id": "FKW4T5zbSgeN"
      },
      "source": [
        "## 1. 조건문 기초\n",
        "* if: (만약) ~라면\n",
        "* 조건식에 따라 서로 다른 코드를 실행시킬 수 있어요\n",
        "* **Quiz**. 변수의 값을 True에서 False로 바꾸어서 실행해 봅시다. 출력이 어떻게 달라지나요?"
      ]
    },
    {
      "cell_type": "code",
      "execution_count": null,
      "metadata": {
        "ExecuteTime": {
          "end_time": "2023-05-10T06:14:05.578802Z",
          "start_time": "2023-05-10T06:14:05.570802Z"
        },
        "id": "_uNtAJYYSgeO"
      },
      "outputs": [],
      "source": [
        "condition = True # condition이라는 변수에 True(참)를 대입합니다.\n",
        "\n",
        "if condition:\n",
        "    print(\"조건식이 참(True)일 경우, 이 코드가 실행됩니다.\")\n",
        "else:\n",
        "    print(\"조건식이 거짓(False)일 경우, 이 코드가 실행됩니다.\")"
      ]
    },
    {
      "attachments": {},
      "cell_type": "markdown",
      "metadata": {
        "collapsed": false,
        "id": "Be2G11GFSgeP"
      },
      "source": [
        "## 2. if/else 문\n",
        "* else: \"그 밖의 다른\"\n",
        "* 아래 프로그램은 사용자로부터 정수를 입력받아 짝수/홀수 여부를 판별해요."
      ]
    },
    {
      "cell_type": "code",
      "execution_count": null,
      "metadata": {
        "ExecuteTime": {
          "end_time": "2023-05-11T02:46:06.731719Z",
          "start_time": "2023-05-11T02:46:05.324169Z"
        },
        "id": "-nQV7SgNSgeP"
      },
      "outputs": [],
      "source": [
        "number = int(input(\"자연수를 입력해주세요: \"))\n",
        "\n",
        "if number % 2 == 0:  # number를 2로 나눈 나머지가 0이라면\n",
        "    print(number, \"짝수입니다.\")\n",
        "else:  # number를 2로 나눈 나머지가 0이 아니라면(즉, 나머지가 1이라면)\n",
        "    print(number, \"홀수입니다.\")"
      ]
    },
    {
      "attachments": {},
      "cell_type": "markdown",
      "metadata": {
        "collapsed": false,
        "id": "c-AUKydqSgeP"
      },
      "source": [
        "## 3. if/elif 문\n",
        "* 파이썬에서는 else if를 elif로 줄여서 쓰고 있어요.\n",
        "* 아래 예제는 if/elif 문을 사용한 간단한 계산기 프로그램이에요.\n",
        "* **Quiz**. 만약 연산자(+, -, *, /)가 아닌 다른 문자열(\"abc\", \"hello\")이 입력으로 들어오면, \"잘못된 연산자입니다.\"를 출력하도록 코드를 수정해봅시다."
      ]
    },
    {
      "cell_type": "code",
      "execution_count": null,
      "metadata": {
        "ExecuteTime": {
          "end_time": "2023-05-10T06:27:39.334136Z",
          "start_time": "2023-05-10T06:27:36.013631Z"
        },
        "id": "c0Ek2vF8SgeP"
      },
      "outputs": [],
      "source": [
        "num1 = int(input(\"첫 번째 숫자를 입력해주세요: \"))\n",
        "num2 = int(input(\"두 번째 숫자를 입력해주세요: \"))\n",
        "operator = input(\"연산자를 입력해주세요(ex. + - * /): \")\n",
        "\n",
        "if operator == \"+\":\n",
        "    print(num1, \"+\", num2, \"=\", num1 + num2)\n",
        "elif operator == \"-\":\n",
        "    print(num1, \"-\", num2, \"=\", num1 - num2)\n",
        "elif operator == \"*\":\n",
        "    print(num1, \"*\", num2, \"=\", num1 * num2)\n",
        "elif operator == \"/\":\n",
        "    print(num1, \"/\", num2, \"=\", num1 / num2)"
      ]
    },
    {
      "attachments": {},
      "cell_type": "markdown",
      "metadata": {
        "collapsed": false,
        "id": "UTuW9GmeSgeQ"
      },
      "source": [
        "## 4. while 반복문\n",
        "* while: ~하는 동안\n",
        "* 특정한 조건을 만족하는 동안, 코드를 반복해요.\n",
        "* **Quiz**. while의 조건식(num_apple_eaten < 3)을 num_apple_eaten <= 3으로 바꿔봅시다. 출력이 어떻게 달라지나요?"
      ]
    },
    {
      "cell_type": "code",
      "execution_count": null,
      "metadata": {
        "id": "eggJ5D52dvNx"
      },
      "outputs": [],
      "source": [
        "num_apple_eaten = 0\n",
        "\n",
        "while num_apple_eaten < 3:\n",
        "    num_apple_eaten += 1 \n",
        "    print(\"사과를\", num_apple_eaten, \"개 먹었습니다.\")\n",
        "\n",
        "print(\"사과를\", num_apple_eaten, \"개 먹으니 배가 불러요.\")"
      ]
    },
    {
      "attachments": {},
      "cell_type": "markdown",
      "metadata": {
        "id": "1BMaGD4qdXxA"
      },
      "source": [
        "## 5. 무한 반복과 break\n",
        "* while True와 같이 코드를 적을 경우, 반복 코드가 무한히 실행되어요.\n",
        "* break문을 사용하면 가장 가까운 반복문을 탈출할 수 있어요."
      ]
    },
    {
      "cell_type": "code",
      "execution_count": null,
      "metadata": {
        "id": "QYC1zURedLUi"
      },
      "outputs": [],
      "source": [
        "answer = \"1234\"  # 정답 비밀번호\n",
        "\n",
        "while True:  # 무한 반복\n",
        "    passcode = input(\"비밀번호를 입력해주세요: \")\n",
        "\n",
        "    if passcode == answer: # 입력이 정답과 같으면\n",
        "        print(\"비밀번호가 맞습니다.\")\n",
        "        break  # 반복문을 종료합니다.\n",
        "    else: # 입력이 정답과 다르면\n",
        "        print(\"비밀번호가 틀렸습니다. 다시 시도해 주세요.\")\n",
        "\n",
        "print(\"환영합니다.\")"
      ]
    },
    {
      "attachments": {},
      "cell_type": "markdown",
      "metadata": {
        "collapsed": false,
        "id": "SrY89nQASgeQ"
      },
      "source": [
        "## 활동1: 성적에 따른 등급을 출력하는 프로그램 만들기\n",
        "* 사용자로부터 점수를 입력받습니다. (0 이상 100 이하인 정수만 입력된다 가정합니다.)\n",
        "* 90점 이상 100점 이하이면 A를 출력합니다.\n",
        "* 80점 이상 89점 이하이면 B를 출력합니다,\n",
        "* 70점 이상 79점 이하이면 C를 출력합니다,\n",
        "* 60점 이상 69점 이하라면 D를 출력합니다,\n",
        "* 나머지 경우는 F를 출력합니다.\n",
        "* **Extra**: and 연산자를 사용하지 않고 조건식을 작성해 보세요."
      ]
    },
    {
      "cell_type": "code",
      "execution_count": null,
      "metadata": {
        "id": "zj2XCAWPSgeQ"
      },
      "outputs": [],
      "source": [
        "# 여기에 코드를 작성해 봅시다.\n"
      ]
    },
    {
      "attachments": {},
      "cell_type": "markdown",
      "metadata": {
        "id": "bQiXZfn-hiL5"
      },
      "source": [
        "## 활동2: 가위바위보 게임 만들기\n",
        "* 아래 지시대로 가위바위보 게임을 만들어 봅시다.\n",
        "1. 사용자로부터 가위, 바위, 보 중 하나를 입력받습니다.\n",
        "  - 사용자가 입력한 값이 가위, 바위, 보 중 하나가 아니라면, 다시 입력을 요구해야 합니다.\n",
        "2. 컴퓨터도 가위, 바위, 보 중 하나를 임의로 선택합니다.\n",
        "  - 선생님이 미리 작성해뒀습니다.\n",
        "3. 사용자가 입력한 값과 컴퓨터가 선택한 값을 비교하여 승패를 결정합니다.\n",
        "4. 승패, 사용자가 입력한 값, 컴퓨터가 선택한 값을 출력합니다.\n",
        "5. 사용자에게 다시 게임을 할 것인지 물어봅니다.\n",
        "  - 사용자가 'y' 또는 'Y'를 입력하면 게임을 다시 시작합니다.\n",
        "  - 사용자가 'n' 또는 'N'을 입력하면 게임을 종료합니다.\n",
        "  - 사용자가 그 밖의 값을 입력하면 다시 입력을 요구해야 합니다.\n",
        "\n",
        "**Extra**: 가위바위보 게임을 3판 2선승제로 만들어 보세요.\n",
        "  - 사용자에게 입력을 받을 때, 현재 점수를 같이 출력해 주세요.\n"
      ]
    },
    {
      "cell_type": "code",
      "execution_count": null,
      "metadata": {
        "id": "lQ0JfToxSgeR"
      },
      "outputs": [],
      "source": [
        "import random\n",
        "\n",
        "computer_choice = random.choice([\"가위\", \"바위\", \"보\"])\n",
        "\n",
        "# 여기에 코드를 작성해 봅시다.\n"
      ]
    }
  ],
  "metadata": {
    "colab": {
      "include_colab_link": true,
      "provenance": []
    },
    "kernelspec": {
      "display_name": "Python 3",
      "language": "python",
      "name": "python3"
    },
    "language_info": {
      "codemirror_mode": {
        "name": "ipython",
        "version": 2
      },
      "file_extension": ".py",
      "mimetype": "text/x-python",
      "name": "python",
      "nbconvert_exporter": "python",
      "pygments_lexer": "ipython2",
      "version": "2.7.6"
    }
  },
  "nbformat": 4,
  "nbformat_minor": 0
}
