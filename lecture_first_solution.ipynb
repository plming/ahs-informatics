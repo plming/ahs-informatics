{
  "cells": [
    {
      "attachments": {},
      "cell_type": "markdown",
      "metadata": {
        "colab_type": "text",
        "id": "view-in-github"
      },
      "source": [
        "<a href=\"https://colab.research.google.com/github/plming/andonghs-informatics/blob/master/lecture_first_solution.ipynb\" target=\"_parent\"><img src=\"https://colab.research.google.com/assets/colab-badge.svg\" alt=\"Open In Colab\"/></a>"
      ]
    },
    {
      "attachments": {},
      "cell_type": "markdown",
      "metadata": {},
      "source": [
        "# 조건문 사용에 따른 프로그램 수행시간의 차이\n",
        "* 조건문을 적절히 사용하면 효율적인 프로그램을 작성할 수 있어요.\n",
        "* 아래 2개의 프로그램을 실행하여, 어떤 프로그램이 더 효율적인지 확인해보아요.\n",
        "* 어떤 프로그램이 더 효율적이고, 그 이유는 무엇인가요?"
      ]
    },
    {
      "cell_type": "code",
      "execution_count": null,
      "metadata": {
        "id": "ftEAMfa4LS_G"
      },
      "outputs": [],
      "source": [
        "import time\n",
        "\n",
        "# 대한민국 총 학생 수 * 한 학생당 듣는 과목수\n",
        "실행횟수 = 5_000_000 * 7\n",
        "\n",
        "# 입력 예시\n",
        "score = 95\n",
        "\n",
        "# 입출력 대신 수행할 연산을 위한 변수\n",
        "dummy = 0\n",
        "\n",
        "# 프로그램1: if-elif-else 문을 사용한 프로그램\n",
        "# 프로그램1 수행시간 측정 시작\n",
        "program1_start = time.time()\n",
        "for _ in range(실행횟수):\n",
        "    if score >= 90:\n",
        "        dummy += 1\n",
        "    elif score >= 80:\n",
        "        dummy += 1\n",
        "    elif score >= 70:\n",
        "        dummy += 1\n",
        "    elif score >= 60:\n",
        "        dummy += 1\n",
        "    else:\n",
        "        dummy += 1\n",
        "program1_time = time.time() - program1_start\n",
        "print(f\"프로그램1의 수행시간: {program1_time:.2f}초\")\n",
        "# 프로그램1 수행시간 측정 종료\n",
        "\n",
        "# 프로그램2: if 문만 사용한 프로그램\n",
        "# 프로그램2 수행 시간 측정 시작\n",
        "program2_start = time.time()\n",
        "for _ in range(실행횟수):\n",
        "    if score >= 90 and score <= 100:\n",
        "        dummy += 1\n",
        "    if score >= 80 and score < 90:\n",
        "        dummy += 1\n",
        "    if score >= 70 and score < 80:\n",
        "        dummy += 1\n",
        "    if score >= 60 and score < 70:\n",
        "        dummy += 1\n",
        "    if score < 60:\n",
        "        dummy += 1\n",
        "program2_time = time.time() - program2_start\n",
        "print(f\"프로그램2의 수행시간: {program2_time:.2f}초\")\n",
        "# 프로그램2 수행시간 측정 종료\n",
        "\n",
        "# 몇 퍼센트 더 빠른지 출력(프로그램 1이 더 빠름)\n",
        "print(f\"프로그램1이 프로그램2보다 {((program2_time - program1_time) / program2_time) * 100:.2f}% 더 빠릅니다.\")"
      ]
    }
  ],
  "metadata": {
    "colab": {
      "authorship_tag": "ABX9TyPXvtxqmaB1zhsAa92nyFcG",
      "include_colab_link": true,
      "provenance": []
    },
    "kernelspec": {
      "display_name": "Python 3",
      "name": "python3"
    },
    "language_info": {
      "codemirror_mode": {
        "name": "ipython",
        "version": 3
      },
      "file_extension": ".py",
      "mimetype": "text/x-python",
      "name": "python",
      "nbconvert_exporter": "python",
      "pygments_lexer": "ipython3",
      "version": "3.11.2"
    }
  },
  "nbformat": 4,
  "nbformat_minor": 0
}
