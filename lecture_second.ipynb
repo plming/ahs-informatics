{
  "cells": [
    {
      "attachments": {},
      "cell_type": "markdown",
      "metadata": {
        "colab_type": "text",
        "id": "view-in-github"
      },
      "source": [
        "<a href=\"https://colab.research.google.com/github/plming/andonghs-informatics/blob/master/lecture_second.ipynb\" target=\"_parent\"><img src=\"https://colab.research.google.com/assets/colab-badge.svg\" alt=\"Open In Colab\"/></a>"
      ]
    },
    {
      "attachments": {},
      "cell_type": "markdown",
      "metadata": {},
      "source": [
        "# 제어 구조의 활용 2차시 - 반복문\n",
        "* 선생님이 수업에서 쓰일 예제 코드와 여러분이 직접 해결할 활동을 코랩을 통해 작성해 두었어요.\n",
        "* 각 코드 칸의 왼쪽의 ▶ 버튼을 누르면 코드를 실행할 수 있어요."
      ]
    },
    {
      "attachments": {},
      "cell_type": "markdown",
      "metadata": {},
      "source": [
        "---\n",
        "\n",
        "## 활동1. 중복 코드 없는 성적 평균 계산 프로그램 분석하기\n",
        "```python\n",
        "for 변수이름 in range(반복횟수):\n",
        "    반복할 내용\n",
        "```\n",
        "* for 반복문을 사용하면 **특정 횟수만큼** 반복되는 코드를 간단하게 작성할 수 있어요.\n",
        "* 역할별로 **프로그램을 실행시키며** 아래 질문에 답을 달아보아요. **더블 클릭**하면 답을 달 수 있어요.\n",
        "    - 역할1. 학생 수로 3을 입력해봅시다. 점수를 몇 번 입력받게 되나요?\n",
        "    - 역할2. 변수 sum_score는 어떤 역할을 하나요?\n",
        "    - 역할3. for 반복문을 통해 반복 실행되는 코드는 어떤 코드인가요? 왼쪽의 줄 번호를 적어서 나타내봅시다.\n",
        "    - 역할4. **0번** 학생의 점수부터 입력을 받는게 어색하네요. **1번** 학생부터 입력을 받도록 코드를 수정해봅시다."
      ]
    },
    {
      "cell_type": "code",
      "execution_count": null,
      "metadata": {
        "id": "MWN18v6SjntW"
      },
      "outputs": [],
      "source": [
        "num_students = int(input(\"학생 수를 입력하세요: \"))\n",
        "\n",
        "sum_score = 0\n",
        "for i in range(num_students):\n",
        "    print(i, \"번째 학생의 점수(0~100)를 입력하세요: \")\n",
        "    score = int(input())\n",
        "    sum_score += score\n",
        "\n",
        "avg_score = sum_score / num_students\n",
        "\n",
        "print(\"학생들의 평균 점수는\", avg_score, \"입니다.\")"
      ]
    },
    {
      "attachments": {},
      "cell_type": "markdown",
      "metadata": {},
      "source": [
        "---\n",
        "\n",
        "## 활동2. 숫자 맞추기 게임 분석하기\n",
        "```python\n",
        "while 조건식:\n",
        "    반복할 내용\n",
        "```\n",
        "* while 반복문을 사용하면 **특정 조건을 만족하는 동안** 코드를 반복 실행할 수 있어요.\n",
        "* 역할별로 **프로그램을 실행시키며** 아래 질문에 답을 달아보아요. **더블 클릭**하면 답을 달 수 있어요.\n",
        "    - 역할1. while guess != number는 어떤 역할을 하나요?\n",
        "    - 역할2. while 반복문을 통해 반복 실행되는 코드는 어떤 코드인가요? 왼쪽의 줄 번호를 적어서 나타내봅시다.\n",
        "    - 역할3. 이전 시간에 배운 **순차 탐색**으로 찾아봅시다. 몇 번만에 찾았나요?(10번 안에 안나오면 10번 이상이라고 적어주세요.)\n",
        "    - 역할4. 이전 시간에 배운 **이진 탐색**으로 찾아봅시다. 몇 번만에 찾았나요?"
      ]
    },
    {
      "cell_type": "code",
      "execution_count": null,
      "metadata": {},
      "outputs": [],
      "source": [
        "import random\n",
        "\n",
        "print(\"컴퓨터: 1부터 100까지의 숫자 중 하나를 고를겁니다.\")\n",
        "answer = random.randint(1, 100)\n",
        "\n",
        "print(\"컴퓨터: 골랐습니다. 제가 생각한 숫자를 맞춰보세요.\")\n",
        "\n",
        "guess = 0\n",
        "try_count = 0\n",
        "\n",
        "while guess != answer:\n",
        "    guess = int(input(\"나: \"))\n",
        "    try_count += 1\n",
        "\n",
        "    if guess > answer:\n",
        "        print(\"컴퓨터:\", guess, \"는 제가 고른 숫자보다 큽니다.\")\n",
        "    elif guess < answer:\n",
        "        print(\"컴퓨터:\", guess, \"는 제가 고른 숫자보다 작습니다.\")\n",
        "\n",
        "print(\"컴퓨터: 정답입니다. 제가 생각한 숫자는\", answer, \"입니다.\")\n",
        "print(\"컴퓨터: 당신이 이겼습니다.\", try_count, \"번 만에 맞췄네요.\")"
      ]
    }
  ],
  "metadata": {
    "colab": {
      "authorship_tag": "ABX9TyPXvtxqmaB1zhsAa92nyFcG",
      "include_colab_link": true,
      "provenance": []
    },
    "kernelspec": {
      "display_name": "Python 3",
      "name": "python3"
    },
    "language_info": {
      "codemirror_mode": {
        "name": "ipython",
        "version": 3
      },
      "file_extension": ".py",
      "mimetype": "text/x-python",
      "name": "python",
      "nbconvert_exporter": "python",
      "pygments_lexer": "ipython3",
      "version": "3.8.10"
    }
  },
  "nbformat": 4,
  "nbformat_minor": 0
}
