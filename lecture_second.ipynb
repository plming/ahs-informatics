{
  "cells": [
    {
      "attachments": {},
      "cell_type": "markdown",
      "metadata": {
        "colab_type": "text",
        "id": "view-in-github"
      },
      "source": [
        "<a href=\"https://colab.research.google.com/github/plming/andonghs-informatics/blob/master/lecture_second.ipynb\" target=\"_parent\"><img src=\"https://colab.research.google.com/assets/colab-badge.svg\" alt=\"Open In Colab\"/></a>"
      ]
    },
    {
      "attachments": {},
      "cell_type": "markdown",
      "metadata": {},
      "source": [
        "# 제어 구조의 활용 2차시 - 반복문"
      ]
    },
    {
      "attachments": {},
      "cell_type": "markdown",
      "metadata": {},
      "source": [
        "## for 반복문\n",
        "* for 변수이름 in range(반복횟수)"
      ]
    },
    {
      "cell_type": "code",
      "execution_count": 4,
      "metadata": {
        "id": "MWN18v6SjntW"
      },
      "outputs": [
        {
          "name": "stdout",
          "output_type": "stream",
          "text": [
            "반복문을 실행했습니다. 현재 변수 num의 값은 0 입니다.\n",
            "반복문을 실행했습니다. 현재 변수 num의 값은 1 입니다.\n",
            "반복문을 실행했습니다. 현재 변수 num의 값은 2 입니다.\n"
          ]
        }
      ],
      "source": [
        "for num in range(3):\n",
        "    print(\"반복문을 실행했습니다. 현재 변수 num의 값은\", num, \"입니다.\")"
      ]
    },
    {
      "cell_type": "code",
      "execution_count": 30,
      "metadata": {},
      "outputs": [
        {
          "name": "stdout",
          "output_type": "stream",
          "text": [
            "찾는 숫자 9는 8번 방에 있습니다.\n",
            "비교한 횟수는 9번 입니다.\n",
            "전체 리스트 [0, 4, 3, 8, 7, 1, 5, 6, 9, 2]\n"
          ]
        }
      ],
      "source": [
        "import random\n",
        "\n",
        "numbers = [0,1,2,3,4,5,6,7,8,9]\n",
        "random.shuffle(numbers)\n",
        "\n",
        "key = int(input(\"찾을려는 숫자를 입력하세요: \"))\n",
        "comparsion_count = 0\n",
        "\n",
        "for i in range(len(numbers)):\n",
        "    comparsion_count += 1\n",
        "    if key == numbers[i]:\n",
        "        print(\"찾는 숫자 %d는 %d번 방에 있습니다.\" % (key, i))\n",
        "        break\n",
        "\n",
        "print(\"비교한 횟수는 %d번 입니다.\" % comparsion_count)\n",
        "print(\"전체 리스트\", numbers)"
      ]
    },
    {
      "attachments": {},
      "cell_type": "markdown",
      "metadata": {},
      "source": [
        "## 활동: 소수 구하기"
      ]
    },
    {
      "cell_type": "code",
      "execution_count": 33,
      "metadata": {},
      "outputs": [
        {
          "name": "stdout",
          "output_type": "stream",
          "text": [
            "23는 소수입니다.\n"
          ]
        }
      ],
      "source": [
        "number = int(input(\"숫자를 입력하세요: \"))\n",
        "\n",
        "is_prime = True\n",
        "for i in range(2, number):\n",
        "    if number % i == 0:\n",
        "        is_prime = False\n",
        "        break\n",
        "\n",
        "if is_prime:\n",
        "    print(\"%d는 소수입니다.\" % number)\n",
        "else:\n",
        "    print(\"%d는 소수가 아닙니다.\" % number)"
      ]
    },
    {
      "attachments": {},
      "cell_type": "markdown",
      "metadata": {},
      "source": [
        "## 활동: 숫자야구"
      ]
    },
    {
      "cell_type": "code",
      "execution_count": 24,
      "metadata": {},
      "outputs": [
        {
          "name": "stdout",
          "output_type": "stream",
          "text": [
            "입력한 숫자: [1, 2, 3] 1스트라이크 0볼\n",
            "입력한 숫자: [4, 5, 6] 0스트라이크 0볼\n",
            "입력한 숫자: [1, 7, 8] 0스트라이크 1볼\n",
            "입력한 숫자: [2, 7, 8] 0스트라이크 1볼\n",
            "입력한 숫자: [7, 2, 9] 0스트라이크 0볼\n",
            "입력한 숫자: [9, 3, 8] 0스트라이크 2볼\n",
            "입력한 숫자: [9, 8, 2] 1스트라이크 0볼\n",
            "입력한 숫자: [9, 1, 4] 0스트라이크 0볼\n",
            "입력한 숫자: [1, 8, 2] 1스트라이크 0볼\n",
            "입력한 숫자: [1, 8, 4] 1스트라이크 0볼\n",
            "입력한 숫자: [1, 1, 9] 0스트라이크 0볼\n",
            "입력한 숫자: [2, 1, 3] 1스트라이크 0볼\n",
            "입력한 숫자: [2, 8, 4] 1스트라이크 0볼\n",
            "입력한 숫자: [3, 8, 4] 1스트라이크 1볼\n",
            "입력한 숫자: [4, 8, 3] 2스트라이크 0볼\n",
            "입력한 숫자: [1, 8, 3] 2스트라이크 0볼\n",
            "입력한 숫자: [2, 8, 3] 2스트라이크 0볼\n",
            "입력한 숫자: [4, 8, 4] 1스트라이크 0볼\n",
            "입력한 숫자: [5, 8, 3] 2스트라이크 0볼\n",
            "입력한 숫자: [6, 8, 3] 2스트라이크 0볼\n",
            "입력한 숫자: [7, 8, 3] 2스트라이크 0볼\n",
            "입력한 숫자: [9, 8, 3] 2스트라이크 0볼\n",
            "입력한 숫자: [1, 2, 3] 1스트라이크 0볼\n",
            "입력한 숫자: [0, 0, 0] 1스트라이크 2볼\n",
            "입력한 숫자: [0, 8, 3] 3스트라이크 0볼\n",
            "축하합니다. 짝짝짝\n"
          ]
        }
      ],
      "source": [
        "import random\n",
        "\n",
        "numbers = random.sample(range(10), 3)\n",
        "\n",
        "while True:\n",
        "    guess = [-1] * len(numbers)\n",
        "    for i in range(len(guess)):\n",
        "        num = int(input(f\"{i + 1}번째 숫자를 입력하세요: \"))\n",
        "        guess[i] = num\n",
        "\n",
        "    strike = 0\n",
        "    ball = 0\n",
        "    for i in range(len(numbers)):\n",
        "        for j in range(len(guess)):\n",
        "            if numbers[i] == guess[j]:\n",
        "                if i == j:\n",
        "                    strike += 1\n",
        "                else:\n",
        "                    ball += 1\n",
        "    \n",
        "    print(f\"입력한 숫자: {guess} {strike}S {ball}B\")\n",
        "    if strike == 3:\n",
        "        break\n",
        "\n",
        "print(\"축하합니다. 짝짝짝\")"
      ]
    }
  ],
  "metadata": {
    "colab": {
      "authorship_tag": "ABX9TyPXvtxqmaB1zhsAa92nyFcG",
      "include_colab_link": true,
      "provenance": []
    },
    "kernelspec": {
      "display_name": "Python 3",
      "name": "python3"
    },
    "language_info": {
      "codemirror_mode": {
        "name": "ipython",
        "version": 3
      },
      "file_extension": ".py",
      "mimetype": "text/x-python",
      "name": "python",
      "nbconvert_exporter": "python",
      "pygments_lexer": "ipython3",
      "version": "3.11.2"
    }
  },
  "nbformat": 4,
  "nbformat_minor": 0
}
