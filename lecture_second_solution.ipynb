{
  "cells": [
    {
      "attachments": {},
      "cell_type": "markdown",
      "metadata": {
        "colab_type": "text",
        "id": "view-in-github"
      },
      "source": [
        "<a href=\"https://colab.research.google.com/github/plming/andonghs-informatics/blob/master/lecture_second_solution.ipynb\" target=\"_parent\"><img src=\"https://colab.research.google.com/assets/colab-badge.svg\" alt=\"Open In Colab\"/></a>"
      ]
    },
    {
      "attachments": {},
      "cell_type": "markdown",
      "metadata": {},
      "source": [
        "## 심화. 거듭제곱 계산기 만들기\n",
        "* 이 활동은 심화활동으로 시간이 남은 경우에만 진행하도록 합니다.\n",
        "* 지수가 자연수인 경우에만 동작하는 간단한 거듭제곱 계산기를 만들어보아요.\n",
        "* 입력: 사용자가 밑과 지수를 입력받습니다. 지수는 자연수여야 합니다.\n",
        "* 처리: 1에 지수 횟수 만큼 반복하여 곱해줍니다.\n",
        "* 출력: 밑에 지수를 거듭제곱한 결과를 출력합니다."
      ]
    },
    {
      "cell_type": "code",
      "execution_count": null,
      "metadata": {
        "id": "xHnZu8_F6X3Q"
      },
      "outputs": [],
      "source": [
        "# 밑과 지수를 사용자로부터 입력받기\n",
        "base = int(input(\"거듭제곱의 밑을 입력해주세요: \"))\n",
        "exponent = int(input(\"거듭제곱의 지수를 입력해주세요: \"))\n",
        "\n",
        "# 역할1. 지수의 값이 0 이하일 경우 오류 메시지 출력 후 프로그램 종료\n",
        "if exponent <= 0:\n",
        "    print(\"지수는 자연수여야 합니다.\")\n",
        "else:\n",
        "    # 거듭제곱을 계산하기 위해 밑을 곱해줄 변수\n",
        "    result = 1\n",
        "    \n",
        "    # 역할2. 지수 만큼 횟수 반복\n",
        "    for i in range(exponent):\n",
        "        # 역할3. result에 밑을 곱한 값을 저장\n",
        "        result *= base\n",
        "    \n",
        "    # 역할4. result를 출력\n",
        "    print(base, \"**\", exponent, \"=\", result)"
      ]
    }
  ],
  "metadata": {
    "colab": {
      "authorship_tag": "ABX9TyPXvtxqmaB1zhsAa92nyFcG",
      "include_colab_link": true,
      "provenance": []
    },
    "kernelspec": {
      "display_name": "Python 3",
      "name": "python3"
    },
    "language_info": {
      "codemirror_mode": {
        "name": "ipython",
        "version": 3
      },
      "file_extension": ".py",
      "mimetype": "text/x-python",
      "name": "python",
      "nbconvert_exporter": "python",
      "pygments_lexer": "ipython3",
      "version": "3.11.2"
    }
  },
  "nbformat": 4,
  "nbformat_minor": 0
}
